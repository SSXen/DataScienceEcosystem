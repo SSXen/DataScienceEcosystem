{
 "cells": [
  {
   "cell_type": "markdown",
   "id": "8470102f-3f0f-4742-86f5-654182b026e4",
   "metadata": {},
   "source": [
    "# Data Science Tools and Ecosystem"
   ]
  },
  {
   "cell_type": "markdown",
   "id": "4e3a42c5-16ec-4134-a264-b50ba4788d66",
   "metadata": {},
   "source": [
    "In this notebook, Data Science Tools and Ecosystem are summarized"
   ]
  },
  {
   "cell_type": "markdown",
   "id": "311cabcc-f16f-4cb5-9c4b-2aa0b13120e7",
   "metadata": {},
   "source": [
    "Objectives:\n",
    "\n",
    "- Create and name a new jupyter Notebook\n",
    "- Create a cell with a title of the notebook\n",
    "- List popular Data Science languages \n",
    "- Create a markdown cell with a table of Data Science Tools\n",
    "- Create a code cell to evaluate expressions"
   ]
  },
  {
   "cell_type": "markdown",
   "id": "0bb959be-b3bf-4267-8298-0866d092f9ec",
   "metadata": {},
   "source": [
    "Some of the popular languages the data Scientists use are:\n",
    "\n",
    "1. Python\n",
    "2. R\n",
    "3. SQL\n",
    "4. Scala\n",
    "5. Java"
   ]
  },
  {
   "cell_type": "markdown",
   "id": "2150dc15-c00d-493e-9742-af0cd8975b9e",
   "metadata": {},
   "source": [
    "Some of the commonly used libraries used by Data Scientists include:\n",
    "\n",
    "1. Pandas\n",
    "2. Matplotlib\n",
    "3. Numpy\n",
    "4. Scikit-learn\n",
    "5. Tensor-flow\n",
    "6. Keras"
   ]
  },
  {
   "cell_type": "markdown",
   "id": "89256cd4-548d-4ec3-ab1b-db3fe9511273",
   "metadata": {},
   "source": [
    "| Data Science Tools |\n",
    "|--------------------|\n",
    "| R Studio           |\n",
    "| Jupyter Notebook   |\n",
    "| Anaconda           |\n"
   ]
  },
  {
   "cell_type": "markdown",
   "id": "264165b7-9979-44da-afe1-7ba3fad7cfe6",
   "metadata": {},
   "source": [
    "### Below are a few examples of evaluating arithmetic expression in python"
   ]
  },
  {
   "cell_type": "code",
   "execution_count": 51,
   "id": "ff5a7df5-93cc-44bb-99c5-c4e03ee05cd6",
   "metadata": {},
   "outputs": [
    {
     "data": {
      "text/plain": [
       "17"
      ]
     },
     "execution_count": 51,
     "metadata": {},
     "output_type": "execute_result"
    }
   ],
   "source": [
    "#This is a simple arithmetic expression to multiply then add integers\n",
    "(3*4)+5\n"
   ]
  },
  {
   "cell_type": "code",
   "execution_count": 54,
   "id": "8e97c77e-524d-4eca-98ce-3094e6e193e5",
   "metadata": {},
   "outputs": [
    {
     "data": {
      "text/plain": [
       "3.3333333333333335"
      ]
     },
     "execution_count": 54,
     "metadata": {},
     "output_type": "execute_result"
    }
   ],
   "source": [
    "#This will convert 200 minutes to hours by dividing by 60\n",
    "200/60"
   ]
  },
  {
   "cell_type": "markdown",
   "id": "c3707fe6-da49-4553-b634-bcf4d5d232fa",
   "metadata": {},
   "source": [
    "## Author\n",
    "Mulalo "
   ]
  },
  {
   "cell_type": "markdown",
   "id": "2af61656-accb-4b45-b6c8-dedb31e0a3fd",
   "metadata": {},
   "source": []
  }
 ],
 "metadata": {
  "kernelspec": {
   "display_name": "Python 3 (ipykernel)",
   "language": "python",
   "name": "python3"
  },
  "language_info": {
   "codemirror_mode": {
    "name": "ipython",
    "version": 3
   },
   "file_extension": ".py",
   "mimetype": "text/x-python",
   "name": "python",
   "nbconvert_exporter": "python",
   "pygments_lexer": "ipython3",
   "version": "3.12.4"
  }
 },
 "nbformat": 4,
 "nbformat_minor": 5
}
